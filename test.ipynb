{
 "cells": [
  {
   "cell_type": "code",
   "execution_count": 37,
   "metadata": {},
   "outputs": [
    {
     "name": "stdout",
     "output_type": "stream",
     "text": [
      "2.14.0\n"
     ]
    }
   ],
   "source": [
    "# import required libraries\n",
    "import numpy as np\n",
    "import pandas as pd\n",
    "from matplotlib import pyplot as plt\n",
    "from sklearn import utils as sk_utils\n",
    "import os\n",
    "\n",
    "import tensorflow as tf\n",
    "from tensorflow import keras\n",
    "from tensorflow.keras import layers\n",
    "import cv2\n",
    "\n",
    "from IPython.display import clear_output\n",
    "clear_output()\n",
    "print(tf.__version__)"
   ]
  },
  {
   "cell_type": "code",
   "execution_count": 38,
   "metadata": {},
   "outputs": [],
   "source": [
    "import glob\n",
    "image_size = (192, 256)\n",
    "\n",
    "# 이미지를 불러오고 전처리하는 함수\n",
    "def load_image(file_path, is_x=False):\n",
    "    # tf.io.read_file을 사용하여 이미지 파일을 읽음\n",
    "    image = tf.io.read_file(file_path)\n",
    "    # 이미지를 텐서로 디코드함\n",
    "    image = tf.image.decode_image(image)\n",
    "    \n",
    "    if is_x:\n",
    "        # tf.image.resize를 사용하여 원하는 크기로 이미지를 리사이즈함. 여기서는 Lanczos3 메소드를 사용\n",
    "        image = tf.image.resize(image, image_size, method=tf.image.ResizeMethod.LANCZOS3)\n",
    "        image = image / 255.0  # 이미지를 정규화함(0~1 사이의 값으로 변환)\n",
    "    else:\n",
    "        # 'nearest' 메소드를 사용하여 원하는 크기로 이미지를 리사이즈함. 이때는 antialias=True 옵션을 사용\n",
    "        image = tf.image.resize(image, image_size, method='nearest', antialias=True)\n",
    "    return image\n"
   ]
  },
  {
   "cell_type": "code",
   "execution_count": 39,
   "metadata": {},
   "outputs": [],
   "source": [
    "# 이미지 파일과 마스크 파일의 경로를 지정합니다.\n",
    "image_paths = 'data/dehazed_image.jpg'\n",
    "mask_path = 'data/Image_train_color.png'\n",
    "\n",
    "# 이미지와 마스크를 불러옵니다.\n",
    "X_val = [load_image(image_path, True)]  # 이미지를 불러와서 전처리한 후 X_val에 추가\n",
    "Y_val = [load_image(mask_path)]  # 마스크 이미지를 불러와서 전처리한 후 Y_val에 추가\n",
    "\n",
    "# 리스트를 NumPy 배열로 변환\n",
    "X_val = np.array(X_val)\n",
    "Y_val = np.array(Y_val)\n",
    "\n",
    "# 255는 알 수 없는 객체를 나타냄\n",
    "Y_val[Y_val == 255] = 19\n"
   ]
  },
  {
   "cell_type": "code",
   "execution_count": 40,
   "metadata": {},
   "outputs": [],
   "source": [
    "# 유틸리티 함수들\n",
    "\n",
    "import numpy as np\n",
    "import matplotlib.pyplot as plt\n",
    "\n",
    "# 각 클래스에 대한 색상을 정의하는 딕셔너리\n",
    "color_dict = {\n",
    "    0: (0.7, 0.7, 0.7),     # 도로 - 회색\n",
    "    1:  (0.9, 0.9, 0.2),     # 보도 - 연한 노랑\n",
    "    2: (1.0, 0.4980392156862745, 0.054901960784313725),\n",
    "    3: (1.0, 0.7333333333333333, 0.47058823529411764),\n",
    "    4: (0.8, 0.5, 0.1),  # 울타리 - 녹슨 오렌지\n",
    "    5: (0.596078431372549, 0.8745098039215686, 0.5411764705882353),\n",
    "    6: (0.325, 0.196, 0.361),\n",
    "    7: (1.0, 0.596078431372549, 0.5882352941176471),\n",
    "    8:  (0.2, 0.6, 0.2),     # 식물 - 녹색\n",
    "    9: (0.7725490196078432, 0.6901960784313725, 0.8352941176470589),\n",
    "    10: (0.5, 0.7, 1.0),     # 하늘 - 연한 파랑\n",
    "    11: (1.0, 0.0, 0.0), # 사람 - 빨강\n",
    "    12: (0.8901960784313725, 0.4666666666666667, 0.7607843137254902),\n",
    "    13: (0.0, 0.0, 1.0),  # 차 - 파랑\n",
    "    14: (0.0, 0.0, 1.0),  # 트랙 - 파랑\n",
    "    15: (0.0, 0.0, 1.0),  # 버스 - 파랑\n",
    "    16: (0.7372549019607844, 0.7411764705882353, 0.13333333333333333),\n",
    "    17: (0.8588235294117647, 0.8588235294117647, 0.5529411764705883),\n",
    "    18: (0.09019607843137255, 0.7450980392156863, 0.8117647058823529),\n",
    "    19: (0, 0, 0) # 알 수 없음 - 검정\n",
    "}\n",
    "\n",
    "# 이미지를 색상화하는 함수\n",
    "def colorize_image(image, color_dict):\n",
    "    # 불필요한 차원 제거\n",
    "    image = np.squeeze(image)\n",
    "    # 색상 딕셔너리를 사용하여 색상화된 이미지 생성\n",
    "    colored_image = np.zeros((image.shape[0], image.shape[1], 3))\n",
    "\n",
    "    # 각 픽셀 값에 대해 색상 딕셔너리에서 색상을 찾아 이미지에 적용\n",
    "    for pixel_value, color in color_dict.items():\n",
    "        colored_image[image == pixel_value] = color\n",
    "\n",
    "    # 이미지를 8비트 부호 없는 정수로 변환\n",
    "    colored_image = (colored_image * 255).astype(np.uint8)\n",
    "\n",
    "    return colored_image\n"
   ]
  },
  {
   "cell_type": "code",
   "execution_count": 41,
   "metadata": {},
   "outputs": [
    {
     "data": {
      "image/png": "[encoded data removed]",
      "text/plain": [
       "<Figure size 640x480 with 1 Axes>"
      ]
     },
     "metadata": {},
     "output_type": "display_data"
    }
   ],
   "source": [
    "# 훈련 세트에서 일부 샘플 시각화\n",
    "# 그림의 크기 설정\n",
    "\n",
    "plt.imshow(colorize_image(Y_val, color_dict))  # 마스크 이미지를 색깔별로 구분하여 그래프로 표현\n",
    "\n",
    "AA = colorize_image(Y_val, color_dict)\n"
   ]
  }
 ],
 "metadata": {
  "kernelspec": {
   "display_name": "Python 3",
   "language": "python",
   "name": "python3"
  },
  "language_info": {
   "codemirror_mode": {
    "name": "ipython",
    "version": 3
   },
   "file_extension": ".py",
   "mimetype": "text/x-python",
   "name": "python",
   "nbconvert_exporter": "python",
   "pygments_lexer": "ipython3",
   "version": "3.11.5"
  }
 },
 "nbformat": 4,
 "nbformat_minor": 2
}

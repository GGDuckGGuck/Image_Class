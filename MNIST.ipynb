{
 "cells": [
  {
   "cell_type": "code",
   "execution_count": 10,
   "metadata": {},
   "outputs": [],
   "source": [
    "import tensorflow as tf"
   ]
  },
  {
   "cell_type": "code",
   "execution_count": 11,
   "metadata": {},
   "outputs": [],
   "source": [
    "mnist = tf.keras.datasets.mnist\n",
    "(x_train, y_train), (x_test, y_test) = mnist.load_data()"
   ]
  },
  {
   "cell_type": "code",
   "execution_count": 12,
   "metadata": {},
   "outputs": [],
   "source": [
    "x_train, x_test = x_train/255.0, x_test/255.0"
   ]
  },
  {
   "cell_type": "code",
   "execution_count": 13,
   "metadata": {},
   "outputs": [],
   "source": [
    "model = tf.keras.models.Sequential([\n",
    "    tf.keras.layers.Flatten(input_shape=(28, 28)),\n",
    "    tf.keras.layers.Dense(512, activation=tf.nn.relu),\n",
    "    tf.keras.layers.Dense(10, activation=tf.nn.softmax)\n",
    "])"
   ]
  },
  {
   "cell_type": "code",
   "execution_count": 14,
   "metadata": {},
   "outputs": [],
   "source": [
    "model.compile(optimizer='adam',\n",
    "              loss='sparse_categorical_crossentropy',\n",
    "              metrics=['accuracy'])"
   ]
  },
  {
   "cell_type": "code",
   "execution_count": 15,
   "metadata": {},
   "outputs": [
    {
     "name": "stdout",
     "output_type": "stream",
     "text": [
      "Epoch 1/5\n",
      "1875/1875 [==============================] - 6s 3ms/step - loss: 0.2013 - accuracy: 0.9410\n",
      "Epoch 2/5\n",
      "1875/1875 [==============================] - 6s 3ms/step - loss: 0.0811 - accuracy: 0.9753\n",
      "Epoch 3/5\n",
      "1875/1875 [==============================] - 5s 3ms/step - loss: 0.0520 - accuracy: 0.9836\n",
      "Epoch 4/5\n",
      "1875/1875 [==============================] - 5s 3ms/step - loss: 0.0371 - accuracy: 0.9879\n",
      "Epoch 5/5\n",
      "1875/1875 [==============================] - 6s 3ms/step - loss: 0.0256 - accuracy: 0.9915\n"
     ]
    },
    {
     "data": {
      "text/plain": [
       "<keras.src.callbacks.History at 0x1a105b026d0>"
      ]
     },
     "execution_count": 15,
     "metadata": {},
     "output_type": "execute_result"
    }
   ],
   "source": [
    "model.fit(x_train, y_train, epochs=5)"
   ]
  },
  {
   "cell_type": "code",
   "execution_count": 16,
   "metadata": {},
   "outputs": [
    {
     "name": "stdout",
     "output_type": "stream",
     "text": [
      "313/313 [==============================] - 0s 1ms/step - loss: 0.0620 - accuracy: 0.9823\n",
      "테스트 정확도: 0.9822999835014343\n"
     ]
    }
   ],
   "source": [
    "test_loss, test_acc = model.evaluate(x_test, y_test)\n",
    "print('테스트 정확도:', test_acc)"
   ]
  },
  {
   "cell_type": "code",
   "execution_count": 17,
   "metadata": {},
   "outputs": [
    {
     "name": "stdout",
     "output_type": "stream",
     "text": [
      "1875/1875 [==============================] - 6s 3ms/step - loss: 0.0207 - accuracy: 0.9933\n",
      "313/313 [==============================] - 0s 1ms/step - loss: 0.0803 - accuracy: 0.9764\n",
      "313/313 [==============================] - 0s 833us/step - loss: 0.0803 - accuracy: 0.9764\n",
      "1875/1875 [==============================] - 6s 3ms/step - loss: 0.0176 - accuracy: 0.9941\n",
      "313/313 [==============================] - 0s 1ms/step - loss: 0.0858 - accuracy: 0.9777\n",
      "313/313 [==============================] - 0s 867us/step - loss: 0.0858 - accuracy: 0.9777\n",
      "1875/1875 [==============================] - 6s 3ms/step - loss: 0.0150 - accuracy: 0.9947\n",
      "313/313 [==============================] - 0s 1ms/step - loss: 0.0896 - accuracy: 0.9786\n",
      "313/313 [==============================] - 0s 905us/step - loss: 0.0896 - accuracy: 0.9786\n",
      "1875/1875 [==============================] - 6s 3ms/step - loss: 0.0100 - accuracy: 0.9966\n",
      "313/313 [==============================] - 0s 1ms/step - loss: 0.0818 - accuracy: 0.9806\n",
      "313/313 [==============================] - 0s 820us/step - loss: 0.0818 - accuracy: 0.9806\n",
      "1875/1875 [==============================] - 5s 3ms/step - loss: 0.0110 - accuracy: 0.9961\n",
      "313/313 [==============================] - 0s 1ms/step - loss: 0.0778 - accuracy: 0.9826\n",
      "313/313 [==============================] - 0s 842us/step - loss: 0.0778 - accuracy: 0.9826\n",
      "1875/1875 [==============================] - 5s 3ms/step - loss: 0.0109 - accuracy: 0.9962\n",
      "313/313 [==============================] - 0s 1ms/step - loss: 0.0825 - accuracy: 0.9823\n",
      "313/313 [==============================] - 0s 830us/step - loss: 0.0825 - accuracy: 0.9823\n",
      "1875/1875 [==============================] - 6s 3ms/step - loss: 0.0091 - accuracy: 0.9970\n",
      "313/313 [==============================] - 0s 1ms/step - loss: 0.0913 - accuracy: 0.9802\n",
      "313/313 [==============================] - 0s 821us/step - loss: 0.0913 - accuracy: 0.9802\n",
      "1875/1875 [==============================] - 6s 3ms/step - loss: 0.0080 - accuracy: 0.9973\n",
      "313/313 [==============================] - 0s 1ms/step - loss: 0.1024 - accuracy: 0.9793\n",
      "313/313 [==============================] - 0s 839us/step - loss: 0.1024 - accuracy: 0.9793\n",
      "1875/1875 [==============================] - 6s 3ms/step - loss: 0.0078 - accuracy: 0.9973\n",
      "313/313 [==============================] - 0s 1ms/step - loss: 0.0984 - accuracy: 0.9810\n",
      "313/313 [==============================] - 0s 867us/step - loss: 0.0984 - accuracy: 0.9810\n",
      "1875/1875 [==============================] - 6s 3ms/step - loss: 0.0076 - accuracy: 0.9977\n",
      "313/313 [==============================] - 0s 848us/step - loss: 0.1209 - accuracy: 0.9795\n",
      "313/313 [==============================] - 0s 891us/step - loss: 0.1209 - accuracy: 0.9795\n",
      "[0.9764000177383423, 0.9776999950408936, 0.978600025177002, 0.9805999994277954, 0.9825999736785889, 0.9822999835014343, 0.9801999926567078, 0.9793000221252441, 0.9810000061988831, 0.9794999957084656]\n"
     ]
    }
   ],
   "source": [
    "loss, accuracy = [], []\n",
    "for i in range(10):\n",
    "    model.fit(x_train, y_train, epochs=1)\n",
    "    loss.append(model.evaluate(x_test, y_test)[0])\n",
    "    accuracy.append(model.evaluate(x_test, y_test)[1])\n",
    "\n",
    "print(accuracy)"
   ]
  }
 ],
 "metadata": {
  "kernelspec": {
   "display_name": "Python 3",
   "language": "python",
   "name": "python3"
  },
  "language_info": {
   "codemirror_mode": {
    "name": "ipython",
    "version": 3
   },
   "file_extension": ".py",
   "mimetype": "text/x-python",
   "name": "python",
   "nbconvert_exporter": "python",
   "pygments_lexer": "ipython3",
   "version": "3.11.5"
  }
 },
 "nbformat": 4,
 "nbformat_minor": 2
}
